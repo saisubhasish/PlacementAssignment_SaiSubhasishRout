{
  "nbformat": 4,
  "nbformat_minor": 0,
  "metadata": {
    "colab": {
      "provenance": []
    },
    "kernelspec": {
      "name": "python3",
      "display_name": "Python 3"
    },
    "language_info": {
      "name": "python"
    }
  },
  "cells": [
    {
      "cell_type": "markdown",
      "source": [
        "# Question 1 -\n",
        "\n",
        "Implement 3 different CNN architectures with a comparison table for the MNSIT\n",
        "dataset using the Tensorflow library.\n",
        "Note -\n",
        "1. The model parameters for each architecture should not be more than 8000\n",
        "parameters\n",
        "2. Code comments should be given for proper code understanding.\n",
        "3. The minimum accuracy for each accuracy should be at least 96%"
      ],
      "metadata": {
        "id": "58yGU_slNAmE"
      }
    },
    {
      "cell_type": "code",
      "execution_count": 1,
      "metadata": {
        "id": "KaYwC1ATMhdd"
      },
      "outputs": [],
      "source": [
        "# Importing libraries\n",
        "\n",
        "import tensorflow as tf\n",
        "from tensorflow.keras import layers\n",
        "from tensorflow.keras.datasets import mnist\n",
        "from tensorflow.keras.models import Sequential\n",
        "from tensorflow.keras.optimizers import Adam"
      ]
    },
    {
      "cell_type": "code",
      "source": [
        "# Load the MNIST dataset\n",
        "(x_train, y_train), (x_test, y_test) = mnist.load_data()"
      ],
      "metadata": {
        "colab": {
          "base_uri": "https://localhost:8080/"
        },
        "id": "RGNy5P5oNLOn",
        "outputId": "8d892f18-64e0-48df-f552-c76b69aaef1e"
      },
      "execution_count": 2,
      "outputs": [
        {
          "output_type": "stream",
          "name": "stdout",
          "text": [
            "Downloading data from https://storage.googleapis.com/tensorflow/tf-keras-datasets/mnist.npz\n",
            "11490434/11490434 [==============================] - 0s 0us/step\n"
          ]
        }
      ]
    },
    {
      "cell_type": "code",
      "source": [
        "# Preprocess the data\n",
        "x_train = x_train.reshape(-1, 28, 28, 1) / 255.0    # Adding a dimension as batch size to make ready the input for tensorflow\n",
        "x_test = x_test.reshape(-1, 28, 28, 1) / 255.0    \n",
        "y_train = tf.keras.utils.to_categorical(y_train, num_classes=10)\n",
        "y_test = tf.keras.utils.to_categorical(y_test, num_classes=10)"
      ],
      "metadata": {
        "id": "u1HK6CtnNVeg"
      },
      "execution_count": 3,
      "outputs": []
    },
    {
      "cell_type": "markdown",
      "source": [
        "# Architecture 1: Simple Convolutional Neural Network"
      ],
      "metadata": {
        "id": "6XGKR5SbN-8D"
      }
    },
    {
      "cell_type": "code",
      "source": [
        "# Defining a Sequential model to add layers in sequence\n",
        "model1 = Sequential()\n",
        "model1.add(layers.Conv2D(32, (3, 3), activation='relu', input_shape=(28, 28, 1)))    # Input layer of image\n",
        "model1.add(layers.MaxPooling2D((2, 2)))    # Pooling layer to reduce dimension of data\n",
        "model1.add(layers.Flatten())    # Flattening layer (1,1,1)\n",
        "model1.add(layers.Dense(64, activation='relu'))    # Applying activation function to feature map\n",
        "model1.add(layers.Dense(10, activation='softmax'))    # Multiclass classification\n",
        "\n",
        "# Compiling the model with loss function and metrics\n",
        "model1.compile(optimizer=Adam(), loss='categorical_crossentropy', metrics=['accuracy'])\n",
        "model1.summary()\n",
        "\n",
        "# Training the model\n",
        "history1 = model1.fit(x_train, y_train, batch_size=128, epochs=10, validation_data=(x_test, y_test))\n"
      ],
      "metadata": {
        "colab": {
          "base_uri": "https://localhost:8080/"
        },
        "id": "89Ewyxm3NZFc",
        "outputId": "7198e44e-eeb4-4c18-e3f1-32f788a18c2d"
      },
      "execution_count": 4,
      "outputs": [
        {
          "output_type": "stream",
          "name": "stdout",
          "text": [
            "Model: \"sequential\"\n",
            "_________________________________________________________________\n",
            " Layer (type)                Output Shape              Param #   \n",
            "=================================================================\n",
            " conv2d (Conv2D)             (None, 26, 26, 32)        320       \n",
            "                                                                 \n",
            " max_pooling2d (MaxPooling2D  (None, 13, 13, 32)       0         \n",
            " )                                                               \n",
            "                                                                 \n",
            " flatten (Flatten)           (None, 5408)              0         \n",
            "                                                                 \n",
            " dense (Dense)               (None, 64)                346176    \n",
            "                                                                 \n",
            " dense_1 (Dense)             (None, 10)                650       \n",
            "                                                                 \n",
            "=================================================================\n",
            "Total params: 347,146\n",
            "Trainable params: 347,146\n",
            "Non-trainable params: 0\n",
            "_________________________________________________________________\n",
            "Epoch 1/10\n",
            "469/469 [==============================] - 31s 64ms/step - loss: 0.2560 - accuracy: 0.9281 - val_loss: 0.1001 - val_accuracy: 0.9705\n",
            "Epoch 2/10\n",
            "469/469 [==============================] - 30s 64ms/step - loss: 0.0794 - accuracy: 0.9773 - val_loss: 0.0658 - val_accuracy: 0.9801\n",
            "Epoch 3/10\n",
            "469/469 [==============================] - 28s 61ms/step - loss: 0.0545 - accuracy: 0.9839 - val_loss: 0.0521 - val_accuracy: 0.9830\n",
            "Epoch 4/10\n",
            "469/469 [==============================] - 29s 61ms/step - loss: 0.0419 - accuracy: 0.9877 - val_loss: 0.0454 - val_accuracy: 0.9846\n",
            "Epoch 5/10\n",
            "469/469 [==============================] - 28s 60ms/step - loss: 0.0331 - accuracy: 0.9901 - val_loss: 0.0494 - val_accuracy: 0.9836\n",
            "Epoch 6/10\n",
            "469/469 [==============================] - 28s 60ms/step - loss: 0.0262 - accuracy: 0.9924 - val_loss: 0.0446 - val_accuracy: 0.9858\n",
            "Epoch 7/10\n",
            "469/469 [==============================] - 29s 62ms/step - loss: 0.0216 - accuracy: 0.9937 - val_loss: 0.0427 - val_accuracy: 0.9861\n",
            "Epoch 8/10\n",
            "469/469 [==============================] - 29s 61ms/step - loss: 0.0169 - accuracy: 0.9950 - val_loss: 0.0578 - val_accuracy: 0.9834\n",
            "Epoch 9/10\n",
            "469/469 [==============================] - 28s 61ms/step - loss: 0.0139 - accuracy: 0.9959 - val_loss: 0.0529 - val_accuracy: 0.9847\n",
            "Epoch 10/10\n",
            "469/469 [==============================] - 28s 60ms/step - loss: 0.0110 - accuracy: 0.9970 - val_loss: 0.0580 - val_accuracy: 0.9851\n"
          ]
        }
      ]
    },
    {
      "cell_type": "markdown",
      "source": [
        "# Architecture 2: Deeper CNN"
      ],
      "metadata": {
        "id": "JTkLis4vPIBK"
      }
    },
    {
      "cell_type": "code",
      "source": [
        "# Defining a Sequential model to add layers in sequence\n",
        "model2 = Sequential()\n",
        "model2.add(layers.Conv2D(32, (3, 3), activation='relu', input_shape=(28, 28, 1)))    # Input layer of image\n",
        "model2.add(layers.MaxPooling2D((2, 2)))    # Pooling layer to reduce dimension of data\n",
        "model2.add(layers.Conv2D(64, (3, 3), activation='relu'))    # Applying activation function to feature map\n",
        "model2.add(layers.MaxPooling2D((2, 2)))    # Pooling layer to reduce dimension of data\n",
        "model2.add(layers.Flatten())    # Flattening layer (1,1,1)\n",
        "model2.add(layers.Dense(64, activation='relu'))    # Applying activation function to flattern\n",
        "model2.add(layers.Dense(10, activation='softmax'))    # Multiclass classification\n",
        "\n",
        "# Compiling the model with loss function and metrics\n",
        "model2.compile(optimizer=Adam(), loss='categorical_crossentropy', metrics=['accuracy'])\n",
        "model2.summary()\n",
        "\n",
        "# Training the model\n",
        "history2 = model2.fit(x_train, y_train, batch_size=128, epochs=10, validation_data=(x_test, y_test))\n"
      ],
      "metadata": {
        "colab": {
          "base_uri": "https://localhost:8080/"
        },
        "id": "Ks55lBuVPFVq",
        "outputId": "207f32db-322e-4ba3-9e2e-d22bec766ada"
      },
      "execution_count": 5,
      "outputs": [
        {
          "output_type": "stream",
          "name": "stdout",
          "text": [
            "Model: \"sequential_1\"\n",
            "_________________________________________________________________\n",
            " Layer (type)                Output Shape              Param #   \n",
            "=================================================================\n",
            " conv2d_1 (Conv2D)           (None, 26, 26, 32)        320       \n",
            "                                                                 \n",
            " max_pooling2d_1 (MaxPooling  (None, 13, 13, 32)       0         \n",
            " 2D)                                                             \n",
            "                                                                 \n",
            " conv2d_2 (Conv2D)           (None, 11, 11, 64)        18496     \n",
            "                                                                 \n",
            " max_pooling2d_2 (MaxPooling  (None, 5, 5, 64)         0         \n",
            " 2D)                                                             \n",
            "                                                                 \n",
            " flatten_1 (Flatten)         (None, 1600)              0         \n",
            "                                                                 \n",
            " dense_2 (Dense)             (None, 64)                102464    \n",
            "                                                                 \n",
            " dense_3 (Dense)             (None, 10)                650       \n",
            "                                                                 \n",
            "=================================================================\n",
            "Total params: 121,930\n",
            "Trainable params: 121,930\n",
            "Non-trainable params: 0\n",
            "_________________________________________________________________\n",
            "Epoch 1/10\n",
            "469/469 [==============================] - 55s 115ms/step - loss: 0.2224 - accuracy: 0.9360 - val_loss: 0.0653 - val_accuracy: 0.9800\n",
            "Epoch 2/10\n",
            "469/469 [==============================] - 54s 114ms/step - loss: 0.0612 - accuracy: 0.9814 - val_loss: 0.0607 - val_accuracy: 0.9797\n",
            "Epoch 3/10\n",
            "469/469 [==============================] - 58s 124ms/step - loss: 0.0435 - accuracy: 0.9867 - val_loss: 0.0339 - val_accuracy: 0.9890\n",
            "Epoch 4/10\n",
            "469/469 [==============================] - 54s 115ms/step - loss: 0.0340 - accuracy: 0.9899 - val_loss: 0.0325 - val_accuracy: 0.9892\n",
            "Epoch 5/10\n",
            "469/469 [==============================] - 54s 115ms/step - loss: 0.0270 - accuracy: 0.9919 - val_loss: 0.0384 - val_accuracy: 0.9877\n",
            "Epoch 6/10\n",
            "469/469 [==============================] - 53s 114ms/step - loss: 0.0207 - accuracy: 0.9937 - val_loss: 0.0284 - val_accuracy: 0.9906\n",
            "Epoch 7/10\n",
            "469/469 [==============================] - 54s 115ms/step - loss: 0.0175 - accuracy: 0.9944 - val_loss: 0.0313 - val_accuracy: 0.9902\n",
            "Epoch 8/10\n",
            "469/469 [==============================] - 53s 114ms/step - loss: 0.0143 - accuracy: 0.9952 - val_loss: 0.0355 - val_accuracy: 0.9888\n",
            "Epoch 9/10\n",
            "469/469 [==============================] - 53s 114ms/step - loss: 0.0120 - accuracy: 0.9963 - val_loss: 0.0379 - val_accuracy: 0.9897\n",
            "Epoch 10/10\n",
            "469/469 [==============================] - 54s 115ms/step - loss: 0.0100 - accuracy: 0.9966 - val_loss: 0.0414 - val_accuracy: 0.9896\n"
          ]
        }
      ]
    },
    {
      "cell_type": "markdown",
      "source": [
        "# Architecture 3: Custom CNN"
      ],
      "metadata": {
        "id": "6PnvbLJJSkTb"
      }
    },
    {
      "cell_type": "code",
      "source": [
        "# Defining a Sequential model to add layers in sequence\n",
        "model3 = Sequential()\n",
        "model3.add(layers.Conv2D(16, (3, 3), activation='relu', input_shape=(28, 28, 1)))    # Input layer of image\n",
        "model3.add(layers.BatchNormalization())    # BatchNormalization to make the network faster\n",
        "model3.add(layers.Conv2D(32, (3, 3), activation='relu'))    # Applying activation function to flattern\n",
        "model3.add(layers.BatchNormalization())    # BatchNormalization to make the network faster\n",
        "model3.add(layers.Conv2D(64, (3, 3), activation='relu'))    # Applying activation function to flattern\n",
        "model3.add(layers.BatchNormalization())    # BatchNormalization to make the network faster\n",
        "model3.add(layers.Flatten())    # Applying activation function to flattern\n",
        "model3.add(layers.Dense(128, activation='relu'))    # Applying activation function to flattern\n",
        "model3.add(layers.Dense(10, activation='softmax'))    # Multiclass classification\n",
        "\n",
        "model3.compile(optimizer=Adam(), loss='categorical_crossentropy', metrics=['accuracy'])\n",
        "model3.summary()\n",
        "\n",
        "# Training the model\n",
        "history3 = model3.fit(x_train, y_train, batch_size=128, epochs=10, validation_data=(x_test, y_test))"
      ],
      "metadata": {
        "colab": {
          "base_uri": "https://localhost:8080/"
        },
        "id": "7HKyZLYkSg8Q",
        "outputId": "6ea26001-fa25-4b43-a2ff-28b328a7dc14"
      },
      "execution_count": 6,
      "outputs": [
        {
          "metadata": {
            "tags": null
          },
          "name": "stdout",
          "output_type": "stream",
          "text": [
            "Model: \"sequential_2\"\n",
            "_________________________________________________________________\n",
            " Layer (type)                Output Shape              Param #   \n",
            "=================================================================\n",
            " conv2d_3 (Conv2D)           (None, 26, 26, 16)        160       \n",
            "                                                                 \n",
            " batch_normalization (BatchN  (None, 26, 26, 16)       64        \n",
            " ormalization)                                                   \n",
            "                                                                 \n",
            " conv2d_4 (Conv2D)           (None, 24, 24, 32)        4640      \n",
            "                                                                 \n",
            " batch_normalization_1 (Batc  (None, 24, 24, 32)       128       \n",
            " hNormalization)                                                 \n",
            "                                                                 \n",
            " conv2d_5 (Conv2D)           (None, 22, 22, 64)        18496     \n",
            "                                                                 \n",
            " batch_normalization_2 (Batc  (None, 22, 22, 64)       256       \n",
            " hNormalization)                                                 \n",
            "                                                                 \n",
            " flatten_2 (Flatten)         (None, 30976)             0         \n",
            "                                                                 \n",
            " dense_4 (Dense)             (None, 128)               3965056   \n",
            "                                                                 \n",
            " dense_5 (Dense)             (None, 10)                1290      \n",
            "                                                                 \n",
            "=================================================================\n",
            "Total params: 3,990,090\n",
            "Trainable params: 3,989,866\n",
            "Non-trainable params: 224\n",
            "_________________________________________________________________\n",
            "Epoch 1/10\n",
            "469/469 [==============================] - 265s 561ms/step - loss: 0.1647 - accuracy: 0.9592 - val_loss: 0.5345 - val_accuracy: 0.8417\n",
            "Epoch 2/10\n",
            "469/469 [==============================] - 266s 566ms/step - loss: 0.0489 - accuracy: 0.9863 - val_loss: 0.0809 - val_accuracy: 0.9793\n",
            "Epoch 3/10\n",
            "469/469 [==============================] - 264s 563ms/step - loss: 0.0329 - accuracy: 0.9907 - val_loss: 0.0843 - val_accuracy: 0.9822\n",
            "Epoch 4/10\n",
            "469/469 [==============================] - 263s 561ms/step - loss: 0.0204 - accuracy: 0.9941 - val_loss: 0.0722 - val_accuracy: 0.9840\n",
            "Epoch 5/10\n",
            "469/469 [==============================] - 263s 560ms/step - loss: 0.0117 - accuracy: 0.9963 - val_loss: 0.0757 - val_accuracy: 0.9844\n",
            "Epoch 6/10\n",
            "469/469 [==============================] - 262s 559ms/step - loss: 0.0168 - accuracy: 0.9953 - val_loss: 0.0732 - val_accuracy: 0.9844\n",
            "Epoch 7/10\n",
            "469/469 [==============================] - 263s 560ms/step - loss: 0.0161 - accuracy: 0.9952 - val_loss: 0.0843 - val_accuracy: 0.9825\n",
            "Epoch 8/10\n",
            "469/469 [==============================] - 261s 557ms/step - loss: 0.0136 - accuracy: 0.9962 - val_loss: 0.0840 - val_accuracy: 0.9851\n",
            "Epoch 9/10\n",
            "469/469 [==============================] - 253s 539ms/step - loss: 0.0125 - accuracy: 0.9961 - val_loss: 0.0636 - val_accuracy: 0.9873\n",
            "Epoch 10/10\n",
            "469/469 [==============================] - 253s 541ms/step - loss: 0.0072 - accuracy: 0.9982 - val_loss: 0.0717 - val_accuracy: 0.9868\n"
          ]
        }
      ]
    },
    {
      "cell_type": "code",
      "source": [],
      "metadata": {
        "id": "0HDj6-FGVFdD"
      },
      "execution_count": 6,
      "outputs": []
    }
  ]
}