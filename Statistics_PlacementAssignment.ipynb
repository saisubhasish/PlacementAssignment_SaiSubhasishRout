{
 "cells": [
  {
   "cell_type": "markdown",
   "id": "079a514c",
   "metadata": {},
   "source": [
    "# Q-3."
   ]
  },
  {
   "cell_type": "code",
   "execution_count": 1,
   "id": "17be87e8",
   "metadata": {},
   "outputs": [
    {
     "name": "stdout",
     "output_type": "stream",
     "text": [
      "    Patient ID   Blood Pressure Before (mmHg)   Blood Pressure After (mmHg)\n",
      "0            1                            130                           120\n",
      "1            2                            142                           135\n",
      "2            3                            120                           118\n",
      "3            4                            135                           127\n",
      "4            5                            148                           140\n",
      "..         ...                            ...                           ...\n",
      "95          96                            136                           129\n",
      "96          97                            143                           137\n",
      "97          98                            127                           123\n",
      "98          99                            139                           135\n",
      "99         100                            135                           130\n",
      "\n",
      "[100 rows x 3 columns]\n",
      "Index(['Patient ID', ' Blood Pressure Before (mmHg)',\n",
      "       ' Blood Pressure After (mmHg)'],\n",
      "      dtype='object')\n"
     ]
    }
   ],
   "source": [
    "import pandas as pd\n",
    "\n",
    "url='https://drive.google.com/file/d/1mCjtYHiX--mMUjicuaP2gH3k-SnFxt8Y/view?usp=share_'\n",
    "url='https://drive.google.com/uc?id=' + url.split('/')[-2]\n",
    "df = pd.read_csv(url)\n",
    "print(df)\n",
    "print(df.columns)\n",
    "df.columns = [column.strip() for column in df.columns]"
   ]
  },
  {
   "cell_type": "code",
   "execution_count": 12,
   "id": "88357d62",
   "metadata": {},
   "outputs": [
    {
     "name": "stdout",
     "output_type": "stream",
     "text": [
      "range value for 'Blood Pressure Before (mmHg)' column:  28\n",
      "variance value for 'Blood Pressure Before (mmHg)' column:  43.53727272727271\n",
      "standard deviation value for 'Blood Pressure Before (mmHg)' column:  6.598278012275075 \n",
      "\n",
      "range value for 'Blood Pressure After (mmHg)' column:  23\n",
      "variance value for 'Blood Pressure After (mmHg)' column:  47.4448484848485\n",
      "standard deviation value for 'Blood Pressure After (mmHg)' column:  6.8880221025232276\n"
     ]
    }
   ],
   "source": [
    "# a. Measure the dispersion in both and interpret the results.\n",
    "\n",
    "# We calculate the dispersion using the range, variance, and standard deviation.\n",
    "\n",
    "#For the 'Blood Pressure Before' column:\n",
    "\n",
    "print(\"range value for 'Blood Pressure Before (mmHg)' column: \", (df['Blood Pressure Before (mmHg)'].max()-df['Blood Pressure Before (mmHg)'].min()))\n",
    "print(\"variance value for 'Blood Pressure Before (mmHg)' column: \", df['Blood Pressure Before (mmHg)'].var())\n",
    "print(\"standard deviation value for 'Blood Pressure Before (mmHg)' column: \", df['Blood Pressure Before (mmHg)'].std(), '\\n')\n",
    "   \n",
    "#For the 'Blood Pressure After' column:\n",
    "\n",
    "print(\"range value for 'Blood Pressure After (mmHg)' column: \", (df['Blood Pressure After (mmHg)'].max()-df['Blood Pressure After (mmHg)'].min()))\n",
    "print(\"variance value for 'Blood Pressure After (mmHg)' column: \", df['Blood Pressure After (mmHg)'].var())\n",
    "print(\"standard deviation value for 'Blood Pressure After (mmHg)' column: \", df['Blood Pressure After (mmHg)'].std())  \n",
    "\n",
    "# Range: The range of 28 mmHg indicates that the blood pressure values before treatment vary by a maximum of 28 mmHg, from the lowest value of 120 mmHg to the highest value of 148 mmHg.\n",
    "# Variance and Standard Deviation: The variance and standard deviation quantify the dispersion around the mean. Higher variance or standard deviation suggests a greater spread of values."
   ]
  },
  {
   "cell_type": "code",
   "execution_count": 14,
   "id": "e1c90160",
   "metadata": {},
   "outputs": [
    {
     "name": "stdout",
     "output_type": "stream",
     "text": [
      "Patient ID                       50.50\n",
      "Blood Pressure Before (mmHg)    133.91\n",
      "Blood Pressure After (mmHg)     128.36\n",
      "dtype: float64\n"
     ]
    }
   ],
   "source": [
    "sum = df.sum()\n",
    "n = len(df)\n",
    "\n",
    "mean = sum/n\n",
    "print(mean)"
   ]
  },
  {
   "cell_type": "code",
   "execution_count": null,
   "id": "fec3b131",
   "metadata": {},
   "outputs": [],
   "source": [
    "# b. Calculate mean and 5% confidence interval and plot it in a graph\n",
    "\n",
    "# To calculate the mean and the 5% confidence interval, we use the formula for the sample mean and the formula for the confidence interval:\n",
    "\n",
    "# Sample mean = sum(x) / n\n",
    "\n",
    "from math import sqrt\n",
    "\n",
    "sum = df.sum()\n",
    "n = len(df)\n",
    "\n",
    "mean = sum/n\n",
    "\n",
    "std_deviation = df.std()\n",
    "\n",
    "# Value of z From the standard normal distribution table with p value of 5% \n",
    "z =  1.645\n",
    "\n",
    "print(std_deviation)\n",
    "print(mean)\n",
    "print(z)\n",
    "\n",
    "# Confidence Interval =  sample_mean ± z(standard deviation / sqrt(n))\n",
    "\n",
    "lower_limit = mean - 1.645(std_deviation/sqrt(n))\n",
    "lower_limit = mean + 1.645(std_deviation/sqrt(n))"
   ]
  },
  {
   "cell_type": "code",
   "execution_count": null,
   "id": "db389584",
   "metadata": {},
   "outputs": [],
   "source": [
    "# c. Calculate the Mean absolute deviation and Standard deviation and interpret the results.\n",
    "\n",
    "# MAD: Mean AbsoluteDeviation Deviation measures the average absolute deviation from the mean. \n",
    "# The formula to get MAD = sum(abs(x - mean)) / n\n",
    "\n",
    "\n",
    "MAD = sum(abs(df-mean))/n\n",
    "\n",
    "'''The Mean Absolute Deviation (MAD) represents the average absolute difference between each data point and the mean. It provides a measure of the average deviation from the mean, regardless of the direction. A lower MAD indicates that the data points are closer to the mean on average'''\n",
    "\n",
    "\n",
    "# Standard Deviation measures the average deviation of data points from the mean\n",
    "# Formula to get Standard deviation = sqrt(sum((x - mean)^2) / (n - 1))\n",
    "\n",
    "std_deviation = sqrt(sum((df - mean)^2) / (n - 1))\n",
    "\n",
    "'''Standard deviation defines the spread of data points around the mean, a higher value indicates a greater dispersion. The standard deviation is commonly used to describe the variability in a dataset.'''\n"
   ]
  },
  {
   "cell_type": "code",
   "execution_count": null,
   "id": "de33aeee",
   "metadata": {},
   "outputs": [],
   "source": [
    "# d. Calculate the correlation coefficient and check the significance of it at the 1% level of significance:\n",
    "\n",
    "# The correlation coefficient measures the strength and direction of the linear relationship between two variables.\n",
    "# To calculate it we can use the formula,  correlation coefficient = covariance / (standard deviation of x * standard deviation of y)\n",
    "# The value of the correlation coefficient ranges from -1 to 1. A value close to 1 indicates a strong positive linear relationship, while a value close to -1 indicates a strong negative linear relationship. A value close to 0 suggests no linear relationship.\n",
    "\n",
    "# Lets perform hypothesis testing to check the significance of the correlation coefficient at significance level of 1%.\n",
    "# t-statistic= (x̄ - μ)/(s/√n)\n"
   ]
  },
  {
   "cell_type": "code",
   "execution_count": null,
   "id": "40cb5b79",
   "metadata": {},
   "outputs": [],
   "source": []
  },
  {
   "cell_type": "markdown",
   "id": "888a6674",
   "metadata": {},
   "source": [
    "# Q-11. \n"
   ]
  },
  {
   "cell_type": "code",
   "execution_count": 16,
   "id": "1ad93f2e",
   "metadata": {},
   "outputs": [
    {
     "name": "stdout",
     "output_type": "stream",
     "text": [
      "    Patient ID   Blood Pressure Before (mmHg)   Blood Pressure After (mmHg)\n",
      "0            1                            130                           120\n",
      "1            2                            142                           135\n",
      "2            3                            120                           118\n",
      "3            4                            135                           127\n",
      "4            5                            148                           140\n",
      "..         ...                            ...                           ...\n",
      "95          96                            136                           129\n",
      "96          97                            143                           137\n",
      "97          98                            127                           123\n",
      "98          99                            139                           135\n",
      "99         100                            135                           130\n",
      "\n",
      "[100 rows x 3 columns]\n",
      "Index(['Patient ID', ' Blood Pressure Before (mmHg)',\n",
      "       ' Blood Pressure After (mmHg)'],\n",
      "      dtype='object')\n",
      "Index(['Patient ID', 'Blood Pressure Before (mmHg)',\n",
      "       'Blood Pressure After (mmHg)'],\n",
      "      dtype='object')\n"
     ]
    }
   ],
   "source": [
    "import pandas as pd\n",
    "\n",
    "url='https://drive.google.com/file/d/1mCjtYHiX--mMUjicuaP2gH3k-SnFxt8Y/view?usp=share_'\n",
    "url='https://drive.google.com/uc?id=' + url.split('/')[-2]\n",
    "df = pd.read_csv(url)\n",
    "print(df)\n",
    "print(df.columns)\n",
    "df.columns = [column.strip() for column in df.columns]\n",
    "print(df.columns)"
   ]
  },
  {
   "cell_type": "code",
   "execution_count": 34,
   "id": "1aab59b1",
   "metadata": {},
   "outputs": [
    {
     "name": "stdout",
     "output_type": "stream",
     "text": [
      "The average difference is :  5.55\n"
     ]
    }
   ],
   "source": [
    "average_difference = [df['Blood Pressure Before (mmHg)'] - df['Blood Pressure After (mmHg)']][0].mean()\n",
    "print('The average difference is : ', average_difference)"
   ]
  },
  {
   "cell_type": "code",
   "execution_count": 31,
   "id": "000c4d53",
   "metadata": {},
   "outputs": [
    {
     "name": "stdout",
     "output_type": "stream",
     "text": [
      "The standard deviation is :  Patient ID                      29.011492\n",
      "Blood Pressure Before (mmHg)     6.598278\n",
      "Blood Pressure After (mmHg)      6.888022\n",
      "dtype: float64\n"
     ]
    }
   ],
   "source": [
    "standard_deviation = df.std()\n",
    "print('The standard deviation is : ', standard_deviation)"
   ]
  },
  {
   "cell_type": "code",
   "execution_count": null,
   "id": "ea3ec262",
   "metadata": {},
   "outputs": [],
   "source": []
  }
 ],
 "metadata": {
  "kernelspec": {
   "display_name": "Python 3 (ipykernel)",
   "language": "python",
   "name": "python3"
  },
  "language_info": {
   "codemirror_mode": {
    "name": "ipython",
    "version": 3
   },
   "file_extension": ".py",
   "mimetype": "text/x-python",
   "name": "python",
   "nbconvert_exporter": "python",
   "pygments_lexer": "ipython3",
   "version": "3.9.13"
  }
 },
 "nbformat": 4,
 "nbformat_minor": 5
}
