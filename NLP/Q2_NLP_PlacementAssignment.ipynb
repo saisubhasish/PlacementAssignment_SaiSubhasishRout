{
  "nbformat": 4,
  "nbformat_minor": 0,
  "metadata": {
    "colab": {
      "provenance": []
    },
    "kernelspec": {
      "name": "python3",
      "display_name": "Python 3"
    },
    "language_info": {
      "name": "python"
    }
  },
  "cells": [
    {
      "cell_type": "markdown",
      "source": [
        "# Q-2. \n",
        "Take any pdf and your task is to extract the text from that pdf and store it in a csv file and then you need to find the most repeated word in that pdf"
      ],
      "metadata": {
        "id": "tR0n8AqtsQIF"
      }
    },
    {
      "cell_type": "code",
      "execution_count": null,
      "metadata": {
        "id": "zRO20aLtsEp4"
      },
      "outputs": [],
      "source": [
        "# Importing libraries\n",
        "\n",
        "import csv\n",
        "import PyPDF2    # to extract text from a PDF\n",
        "from collections import Counter    # To get the count of each word"
      ]
    },
    {
      "cell_type": "code",
      "source": [
        "def extract_text_from_pdf(pdf_path):\n",
        "    '''\n",
        "    This function will take the path of the pdf as input and return the extracted text present in it\n",
        "    '''\n",
        "    # Open the PDF file\n",
        "    with open(pdf_path, 'rb') as file:\n",
        "      \n",
        "        # Create a PDF reader object\n",
        "        reader = PyPDF2.PdfReader(file)\n",
        "        \n",
        "        # Extract the text from each page of the PDF\n",
        "        text = ''\n",
        "        for page in reader.pages:\n",
        "            text += page.extract_text()\n",
        "            \n",
        "    # Return the extracted text\n",
        "    return text"
      ],
      "metadata": {
        "id": "3RmeR01xswFG"
      },
      "execution_count": null,
      "outputs": []
    },
    {
      "cell_type": "code",
      "source": [
        "def find_most_repeated_word(text):\n",
        "    '''\n",
        "    This function takes text data in input and returns most frequent data as output\n",
        "    '''\n",
        "    # Split the text into words\n",
        "    words = text.split()\n",
        "    \n",
        "    # Count the occurrences of each word\n",
        "    word_counts = Counter(words)\n",
        "    \n",
        "    # Find the most repeated word\n",
        "    most_common_word = word_counts.most_common(1)[0][0]\n",
        "    \n",
        "    # Return the most repeated word\n",
        "    return most_common_word"
      ],
      "metadata": {
        "id": "oD36lX32toqe"
      },
      "execution_count": null,
      "outputs": []
    },
    {
      "cell_type": "code",
      "source": [
        "def save_text_to_csv(text, csv_path):\n",
        "    '''\n",
        "    This function takes the text and file path as input \n",
        "    and saves the text in the file\n",
        "    '''\n",
        "    # Split the text into lines\n",
        "    lines = text.split('\\n')\n",
        "    \n",
        "    # Save the lines to a CSV file\n",
        "    with open(csv_path, 'w', newline='') as file:\n",
        "        writer = csv.writer(file)\n",
        "        writer.writerows([[line] for line in lines])"
      ],
      "metadata": {
        "id": "gA2XfgNLt7I4"
      },
      "execution_count": null,
      "outputs": []
    },
    {
      "cell_type": "code",
      "source": [
        "# path to the pdf\n",
        "\n",
        "pdf_path = '/content/Data Science.pdf'"
      ],
      "metadata": {
        "id": "D0zUauBHuPAR"
      },
      "execution_count": null,
      "outputs": []
    },
    {
      "cell_type": "code",
      "source": [
        "# Extracting text from the PDF\n",
        "\n",
        "text = extract_text_from_pdf(pdf_path)"
      ],
      "metadata": {
        "id": "gLtkEdtEubmp"
      },
      "execution_count": null,
      "outputs": []
    },
    {
      "cell_type": "code",
      "source": [
        "# Saving the text to a CSV file\n",
        "\n",
        "csv_path = 'output.csv'\n",
        "save_text_to_csv(text, csv_path)"
      ],
      "metadata": {
        "id": "faAPlEQAueMx"
      },
      "execution_count": null,
      "outputs": []
    },
    {
      "cell_type": "code",
      "source": [
        "# The most repeated word in text\n",
        "\n",
        "most_repeated_word = find_most_repeated_word(text)"
      ],
      "metadata": {
        "id": "mPSTFKdbujub"
      },
      "execution_count": null,
      "outputs": []
    },
    {
      "cell_type": "code",
      "source": [
        "print(\"Most repeated word: \", most_repeated_word)"
      ],
      "metadata": {
        "colab": {
          "base_uri": "https://localhost:8080/"
        },
        "id": "5Wbe0AYUurI5",
        "outputId": "cf50fc7a-4acd-4f9a-9c49-4d97139c4e1d"
      },
      "execution_count": null,
      "outputs": [
        {
          "output_type": "stream",
          "name": "stdout",
          "text": [
            "Most repeated word:  the\n"
          ]
        }
      ]
    },
    {
      "cell_type": "code",
      "source": [],
      "metadata": {
        "id": "ffLiSwlGu4Sx"
      },
      "execution_count": null,
      "outputs": []
    }
  ]
}