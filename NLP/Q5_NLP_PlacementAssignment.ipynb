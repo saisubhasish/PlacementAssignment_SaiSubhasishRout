{
  "nbformat": 4,
  "nbformat_minor": 0,
  "metadata": {
    "colab": {
      "provenance": []
    },
    "kernelspec": {
      "name": "python3",
      "display_name": "Python 3"
    },
    "language_info": {
      "name": "python"
    }
  },
  "cells": [
    {
      "cell_type": "markdown",
      "source": [
        "# Q-5. \n",
        "Now you need build your own language detection with the fast Text model\n",
        "by Facebook and\n"
      ],
      "metadata": {
        "id": "p57blphwKWni"
      }
    },
    {
      "cell_type": "code",
      "source": [
        "# Importing libraries\n",
        "\n",
        "import fasttext    # fastText is a library for learning of word embeddings and text classification created by Facebook's AI Research lab. The model allows one to create an unsupervised learning or supervised learning algorithm for obtaining vector representations for words."
      ],
      "metadata": {
        "id": "ou122fjzMRT9"
      },
      "execution_count": 5,
      "outputs": []
    },
    {
      "cell_type": "code",
      "source": [
        "fasttext supervised -input train.txt -output lang_detection_model"
      ],
      "metadata": {
        "id": "Pv4s_ZknKzAb"
      },
      "execution_count": 5,
      "outputs": []
    },
    {
      "cell_type": "code",
      "source": [
        "# Load the trained model\n",
        "model = fasttext.load_model(\"lang_detection_model.bin\")\n",
        "\n",
        "# Predict the language of a sample text\n",
        "text = \"This is an example sentence\"\n",
        "predicted_labels = model.predict(text)\n",
        "\n",
        "# The predicted_labels will contain the predicted language label and its confidence score\n",
        "print(predicted_labels)\n"
      ],
      "metadata": {
        "id": "WJeeKPWRMKDt"
      },
      "execution_count": null,
      "outputs": []
    }
  ]
}